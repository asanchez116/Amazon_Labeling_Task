{
 "cells": [
  {
   "cell_type": "code",
   "execution_count": 21,
   "id": "58a34fdf",
   "metadata": {},
   "outputs": [],
   "source": [
    "import pandas as pd\n",
    "import spacy\n",
    "from spacy import displacy\n",
    "from spacy.matcher import Matcher\n",
    "import os\n",
    "import numpy as np\n",
    "import random \n",
    "from collections import Counter\n",
    "from spacy.tokens import DocBin"
   ]
  },
  {
   "cell_type": "code",
   "execution_count": 22,
   "id": "80df49cf",
   "metadata": {},
   "outputs": [],
   "source": [
    "nlp = spacy.load(\"en_core_web_lg\")"
   ]
  },
  {
   "cell_type": "code",
   "execution_count": 23,
   "id": "fa056498",
   "metadata": {},
   "outputs": [],
   "source": [
    "# set working directory to location for gold standard labels dataset\n",
    "os.chdir('C:/Users/asanchez/OneDrive - Gongos, Inc/Desktop')"
   ]
  },
  {
   "cell_type": "code",
   "execution_count": 24,
   "id": "5abd7e14",
   "metadata": {},
   "outputs": [],
   "source": [
    "# manually labeled the excel file for relevant vs non-relevant \n",
    "data_file = '02_Relevant_Sessions_Detail_part1_cleaning.xlsx'\n",
    "df = pd.read_excel(data_file,\n",
    "                   usecols=['keyword', 'Keyword_Relevant'])"
   ]
  },
  {
   "cell_type": "code",
   "execution_count": 25,
   "id": "d18912c8",
   "metadata": {},
   "outputs": [],
   "source": [
    "df = df.dropna()\n",
    "df = df.drop_duplicates(subset=['keyword'])\n",
    "#df.to_csv(\"train_file.csv\")\n"
   ]
  },
  {
   "cell_type": "code",
   "execution_count": 26,
   "id": "b4ccc1d8",
   "metadata": {},
   "outputs": [
    {
     "name": "stdout",
     "output_type": "stream",
     "text": [
      "Counter({0.0: 405, 1.0: 76})\n"
     ]
    }
   ],
   "source": [
    "# significant class imbalance\n",
    "print(Counter(df.Keyword_Relevant))"
   ]
  },
  {
   "cell_type": "code",
   "execution_count": 27,
   "id": "2854d0ec",
   "metadata": {},
   "outputs": [],
   "source": [
    "# consider using SMOTEENN"
   ]
  },
  {
   "cell_type": "code",
   "execution_count": 28,
   "id": "b1c94a1d",
   "metadata": {},
   "outputs": [],
   "source": [
    "df['tuples'] = df[['keyword', 'Keyword_Relevant']].apply(tuple, axis=1)"
   ]
  },
  {
   "cell_type": "code",
   "execution_count": 29,
   "id": "23fdbe10",
   "metadata": {},
   "outputs": [
    {
     "data": {
      "text/plain": [
       "('country club driving range titleist fitting', 0.0)"
      ]
     },
     "execution_count": 29,
     "metadata": {},
     "output_type": "execute_result"
    }
   ],
   "source": [
    "df['tuples'].iloc[random.randint(0, len(df))]"
   ]
  },
  {
   "cell_type": "code",
   "execution_count": 30,
   "id": "56f4923e",
   "metadata": {},
   "outputs": [],
   "source": [
    "def make_docs(data):\n",
    "    docs = []\n",
    "    for doc, label in nlp.pipe(data, as_tuples = True):\n",
    "        if label == 1:\n",
    "            doc.cats['relevant'] = 1\n",
    "            doc.cats['not_relevant'] = 0\n",
    "\n",
    "        else:\n",
    "            doc.cats['relevant'] = 0\n",
    "            doc.cats['not_relevant'] = 1\n",
    "        docs.append(doc)\n",
    "    return docs"
   ]
  },
  {
   "cell_type": "code",
   "execution_count": 31,
   "id": "069d2be4",
   "metadata": {},
   "outputs": [
    {
     "data": {
      "text/plain": [
       "((360,), (121,))"
      ]
     },
     "execution_count": 31,
     "metadata": {},
     "output_type": "execute_result"
    }
   ],
   "source": [
    "from sklearn.model_selection import train_test_split\n",
    "X = df['tuples']\n",
    "train, test = train_test_split(X, shuffle=\"y\", test_size=0.25)\n",
    "train.shape, test.shape"
   ]
  },
  {
   "cell_type": "code",
   "execution_count": 32,
   "id": "80e92609",
   "metadata": {},
   "outputs": [],
   "source": [
    "train_docs = make_docs(train)\n",
    "#binerize data \n",
    "doc_bin = DocBin(docs=train_docs)\n",
    "doc_bin.to_disk(\"./data/train.spacy\")\n",
    "\n",
    "valid_docs = make_docs(test)\n",
    "doc_bin = DocBin(docs=valid_docs)\n",
    "doc_bin.to_disk(\"./data/valid.spacy\")"
   ]
  },
  {
   "cell_type": "markdown",
   "id": "b51afd03",
   "metadata": {},
   "source": [
    "## Train spacy model"
   ]
  },
  {
   "cell_type": "code",
   "execution_count": null,
   "id": "d114da4f",
   "metadata": {},
   "outputs": [],
   "source": [
    "!python -m spacy init fill-config ./base_config.cfg ./config.cfg"
   ]
  },
  {
   "cell_type": "code",
   "execution_count": null,
   "id": "d84bb5c2",
   "metadata": {},
   "outputs": [],
   "source": [
    "!python -m spacy train config.cfg --output ./output"
   ]
  },
  {
   "cell_type": "markdown",
   "id": "54ce612e",
   "metadata": {},
   "source": [
    "## spacy model training test"
   ]
  },
  {
   "cell_type": "code",
   "execution_count": 38,
   "id": "a5a0d03b",
   "metadata": {},
   "outputs": [],
   "source": [
    "os.chdir('O:/Amazon/2021/AMZ210470 Major Appliances/1_Behavioral Data Analysis/output')\n",
    "data_file = '02_Relevant Sessions_Detail.csv'\n",
    "df = pd.read_csv(data_file, encoding=\"ISO-8859-1\")"
   ]
  },
  {
   "cell_type": "code",
   "execution_count": 40,
   "id": "b58843c1",
   "metadata": {},
   "outputs": [
    {
     "data": {
      "text/plain": [
       "'front load washer and dryer'"
      ]
     },
     "execution_count": 40,
     "metadata": {},
     "output_type": "execute_result"
    }
   ],
   "source": [
    "titles = [_ for _ in df['keyword_search'].dropna().str.lower()]\n",
    "text = random.choice(titles)\n",
    "text"
   ]
  },
  {
   "cell_type": "code",
   "execution_count": 41,
   "id": "1060fcbb",
   "metadata": {},
   "outputs": [],
   "source": [
    "# this is the location of the model\n",
    "os.chdir(\"C:/Users/asanchez/OneDrive - Gongos, Inc/Desktop/\")\n",
    "# load the model\n",
    "nlp = spacy.load(\"output/model-best\")"
   ]
  },
  {
   "cell_type": "code",
   "execution_count": 42,
   "id": "1566f6c0",
   "metadata": {},
   "outputs": [],
   "source": [
    "doc = nlp(text)"
   ]
  },
  {
   "cell_type": "code",
   "execution_count": 43,
   "id": "2ed77b6e",
   "metadata": {},
   "outputs": [
    {
     "name": "stdout",
     "output_type": "stream",
     "text": [
      "front load washer and dryer {'relevant': 0.7234464287757874, 'not_relevant': 0.2780964970588684}\n"
     ]
    }
   ],
   "source": [
    "# test the model on random text from dataset \n",
    "print(text, doc.cats)"
   ]
  }
 ],
 "metadata": {
  "kernelspec": {
   "display_name": "Python 3 (ipykernel)",
   "language": "python",
   "name": "python3"
  },
  "language_info": {
   "codemirror_mode": {
    "name": "ipython",
    "version": 3
   },
   "file_extension": ".py",
   "mimetype": "text/x-python",
   "name": "python",
   "nbconvert_exporter": "python",
   "pygments_lexer": "ipython3",
   "version": "3.9.7"
  }
 },
 "nbformat": 4,
 "nbformat_minor": 5
}
